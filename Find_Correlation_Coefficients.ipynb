{
 "cells": [
  {
   "cell_type": "code",
   "execution_count": 16,
   "metadata": {},
   "outputs": [],
   "source": [
    "from IPython.core.interactiveshell import InteractiveShell\n",
    "InteractiveShell.ast_node_interactivity = 'all'\n",
    "\n",
    "import pandas as pd\n",
    "import os\n",
    "import scipy.stats as st"
   ]
  },
  {
   "cell_type": "code",
   "execution_count": 10,
   "metadata": {},
   "outputs": [],
   "source": [
    "DF = pd.read_csv(os.path.join('assets', 'data', 'data.csv'))"
   ]
  },
  {
   "cell_type": "code",
   "execution_count": 19,
   "metadata": {},
   "outputs": [],
   "source": [
    "x = ['poverty', 'age', 'income']\n",
    "y = ['obesity', 'smokes', 'healthcare']"
   ]
  },
  {
   "cell_type": "code",
   "execution_count": 21,
   "metadata": {},
   "outputs": [
    {
     "name": "stdout",
     "output_type": "stream",
     "text": [
      "Correlation between poverty and obesity is (0.46234624291790555, 0.0006361178535076975)\n",
      "Correlation between poverty and smokes is (0.5208107888112439, 8.926591885403334e-05)\n",
      "Correlation between poverty and healthcare is (0.5244843633305498, 7.794275116861602e-05)\n",
      "Correlation between age and obesity is (-0.0076888273180995, 0.957294728236235)\n",
      "Correlation between age and smokes is (0.24807809326197977, 0.07921409684465404)\n",
      "Correlation between age and healthcare is (-0.38521822834939895, 0.005247649768286452)\n",
      "Correlation between income and obesity is (-0.651134550132429, 2.295280815581852e-07)\n",
      "Correlation between income and smokes is (-0.6600699456970534, 1.3700921307855745e-07)\n",
      "Correlation between income and healthcare is (-0.4340923025616874, 0.0014597247044671234)\n"
     ]
    }
   ],
   "source": [
    "for w in x:\n",
    "    for h in y:\n",
    "        print(f\"Correlation between {w} and {h} is {st.pearsonr(DF[w], DF[h])}\")"
   ]
  }
 ],
 "metadata": {
  "kernelspec": {
   "display_name": "Python 3",
   "language": "python",
   "name": "python3"
  },
  "language_info": {
   "codemirror_mode": {
    "name": "ipython",
    "version": 3
   },
   "file_extension": ".py",
   "mimetype": "text/x-python",
   "name": "python",
   "nbconvert_exporter": "python",
   "pygments_lexer": "ipython3",
   "version": "3.8.1"
  }
 },
 "nbformat": 4,
 "nbformat_minor": 4
}
